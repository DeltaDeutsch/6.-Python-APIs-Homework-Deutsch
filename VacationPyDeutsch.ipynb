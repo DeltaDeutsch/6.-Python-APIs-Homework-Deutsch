{
 "cells": [
  {
   "cell_type": "markdown",
   "metadata": {},
   "source": [
    "# VacationPy\n",
    "----\n",
    "\n",
    "#### Note\n",
    "* Keep an eye on your API usage. Use https://developers.google.com/maps/reporting/gmp-reporting as reference for how to monitor your usage and billing.\n",
    "\n",
    "* Instructions have been included for each segment. You do not have to follow them exactly, but they are included to help you think through the steps."
   ]
  },
  {
   "cell_type": "code",
   "execution_count": null,
   "metadata": {},
   "outputs": [],
   "source": [
    "\"\"\"\"\"\"\n",
    "### Part II - VacationPy\n",
    "\n",
    "Now let's use your skills in working with weather data to plan future vacations. Use jupyter-gmaps and the Google Places API for this part of the assignment.\n",
    "\n",
    "* **Note:** Remember that any API usage beyond the $200 credit will be charged to your personal account. \n",
    "\n",
    "You can set quotas and limits to your daily requests to be sure you can't be charged. \n",
    "\n",
    "Check out [Google Maps Platform Billing](https://developers.google.com/maps/billing/gmp-billing#monitor-and-restrict-consumption) \n",
    "\n",
    "and [Manage your cost of use](https://developers.google.com/maps/documentation/javascript/usage-and-billing#set-caps) for more information.\n",
    "\n",
    "* **Note:** if you having trouble displaying the maps, try running `jupyter nbextension enable --py gmaps` in your environment and retry.\n",
    "\n",
    "To complete this part of the assignment,you will need to do the following:\n",
    "\n",
    "* Create a heat map that displays the humidity for every city from Part I.\n",
    "\n",
    "  ![heatmap](Images/heatmap.png)\n",
    "\n",
    "* Narrow down the DataFrame to find your ideal weather condition. For example:\n",
    "\n",
    "  * A max temperature lower than 80 degrees but higher than 70.\n",
    "\n",
    "  * Wind speed less than 10 mph.\n",
    "\n",
    "  * Zero cloudiness.\n",
    "\n",
    "  * Drop any rows that don't contain all three conditions. You want to be sure the weather is ideal.\n",
    "\n",
    "  * **Note:** Feel free to adjust to your specifications but be sure to limit the number of rows returned by your API requests to a reasonable number.\n",
    "\n",
    "* Using Google Places API to find the first hotel for each city located within 5000 meters of your coordinates.\n",
    "\n",
    "* Plot the hotels on top of the humidity heatmap with each pin containing the **Hotel Name**, **City**, and **Country**.\n",
    "\n",
    "  ![hotel map](Images/hotel_map.png)\n",
    "\n",
    "As final considerations:\n",
    "\n",
    "* You must complete your analysis using a Jupyter notebook.\n",
    "* You must use the Matplotlib or Pandas plotting libraries.\n",
    "* For Part I, you must include a written description of three observable trends based on the data.\n",
    "* For Part II, you must include a screenshot of the heatmap you create and include it in your submission.\n",
    "* You must use proper labeling of your plots, including aspects like: Plot Titles (with date of analysis) and Axes Labels.\n",
    "* For max intensity in the heat map, try setting it to the highest humidity found in the data set.\n",
    "\n",
    "## Hints and Considerations\n",
    "\n",
    "* The city data you generate is based on random coordinates as well as different query times. As such, your outputs will not be an exact \n",
    "match to the provided starter notebook.\n",
    "\n",
    "* If you'd like a refresher on the geographic coordinate system, \n",
    "\n",
    "[this site](http://desktop.arcgis.com/en/arcmap/10.3/guide-books/map-projections/about-geographic-coordinate-systems.htm) has great information.\n",
    "\n",
    "* Next, spend the requisite time necessary to study the OpenWeatherMap API. \n",
    "\n",
    "Based on your initial study, you should be able to answer basic questions about the API: \n",
    "\n",
    "Where do you request the API key? Which Weather API in particular will you need? What URL endpoints does it expect? \n",
    "\n",
    "What JSON structure does it respond with? Before you write a line of code, you should be aiming to have a crystal clear understanding of your intended outcome.\n",
    "\n",
    "* A starter code for Citipy has been provided. However, if you're craving an extra challenge, push yourself to learn how it works: \n",
    "\n",
    "[citipy Python library](https://pypi.python.org/pypi/citipy). \n",
    "\n",
    "Before you try to incorporate the library into your analysis, start by creating simple test cases outside your main script to confirm that you are using it correctly. \n",
    "\n",
    "Too often, when introduced to a new library, students get bogged down by the most minor of errors -- spending hours investigating their entire code -- \n",
    "when, in fact, a simple and focused test would have shown their basic utilization of the library was wrong from the start. Don't let this be you!\n",
    "\n",
    "* Part of our expectation in this challenge is that you will use critical thinking skills to understand how and why we're recommending the tools we are. \n",
    "\n",
    "What is Citipy for? Why would you use it in conjunction with the OpenWeatherMap API? How would you do so?\n",
    "\n",
    "* In building your script, pay attention to the cities you are using in your query pool. \n",
    "\n",
    "Are you getting coverage of the full gamut of latitudes and longitudes? \n",
    "\n",
    "Or are you simply choosing 500 cities concentrated in one region of the world? \n",
    "\n",
    "Even if you were a geographic genius, simply rattling 500 cities based on your human selection would create a biased dataset. \n",
    "\n",
    "Be thinking of how you should counter this. (Hint: Consider the full range of latitudes).\n",
    "\n",
    "* Once you have computed the linear regression for one chart, the process will be similar for all others. \n",
    "\n",
    "As a bonus, try to create a function that will create these charts based on different parameters.\n",
    "\n",
    "* Remember that each coordinate will trigger a separate call to the Google API. \n",
    "\n",
    "If you're creating your own criteria to plan your vacation, try to reduce the results in your DataFrame to 10 or fewer cities.\n",
    "\n",
    "* Ensure your repository has regular commits (i.e. 20+ commits) and a thorough README.md file.\n",
    "\n",
    "* Lastly, remember -- this is a challenging activity. Push yourself! If you complete this task, then you can safely say that you've gained \n",
    "a strong mastery of the core foundations of data analytics and it will only go better from here. Good luck!\n",
    "\n",
    "\n"
   ]
  },
  {
   "cell_type": "code",
   "execution_count": null,
   "metadata": {},
   "outputs": [],
   "source": [
    "# Dependencies and Setup\n",
    "import matplotlib.pyplot as plt\n",
    "import pandas as pd\n",
    "import numpy as np\n",
    "import requests\n",
    "import gmaps\n",
    "import os\n",
    "\n",
    "# Import API key\n",
    "#from api_keys import g_key\n",
    "from config.py import gkey"
   ]
  },
  {
   "cell_type": "markdown",
   "metadata": {},
   "source": [
    "### Store Part I results into DataFrame\n",
    "* Load the csv exported in Part I to a DataFrame"
   ]
  },
  {
   "cell_type": "code",
   "execution_count": null,
   "metadata": {},
   "outputs": [],
   "source": [
    "\n"
   ]
  },
  {
   "cell_type": "markdown",
   "metadata": {},
   "source": [
    "### Humidity Heatmap\n",
    "* Configure gmaps.\n",
    "* Use the Lat and Lng as locations and Humidity as the weight.\n",
    "* Add Heatmap layer to map."
   ]
  },
  {
   "cell_type": "code",
   "execution_count": null,
   "metadata": {},
   "outputs": [],
   "source": []
  },
  {
   "cell_type": "code",
   "execution_count": null,
   "metadata": {},
   "outputs": [],
   "source": []
  },
  {
   "cell_type": "markdown",
   "metadata": {},
   "source": [
    "### Create new DataFrame fitting weather criteria\n",
    "* Narrow down the cities to fit weather conditions.\n",
    "* Drop any rows will null values."
   ]
  },
  {
   "cell_type": "code",
   "execution_count": null,
   "metadata": {},
   "outputs": [],
   "source": []
  },
  {
   "cell_type": "markdown",
   "metadata": {},
   "source": [
    "### Hotel Map\n",
    "* Store into variable named `hotel_df`.\n",
    "* Add a \"Hotel Name\" column to the DataFrame.\n",
    "* Set parameters to search for hotels with 5000 meters.\n",
    "* Hit the Google Places API for each city's coordinates.\n",
    "* Store the first Hotel result into the DataFrame.\n",
    "* Plot markers on top of the heatmap."
   ]
  },
  {
   "cell_type": "code",
   "execution_count": null,
   "metadata": {},
   "outputs": [],
   "source": []
  },
  {
   "cell_type": "code",
   "execution_count": null,
   "metadata": {},
   "outputs": [],
   "source": []
  },
  {
   "cell_type": "code",
   "execution_count": null,
   "metadata": {},
   "outputs": [],
   "source": [
    "# NOTE: Do not change any of the code in this cell\n",
    "\n",
    "# Using the template add the hotel marks to the heatmap\n",
    "info_box_template = \"\"\"\n",
    "<dl>\n",
    "<dt>Name</dt><dd>{Hotel Name}</dd>\n",
    "<dt>City</dt><dd>{City}</dd>\n",
    "<dt>Country</dt><dd>{Country}</dd>\n",
    "</dl>\n",
    "\"\"\"\n",
    "# Store the DataFrame Row\n",
    "# NOTE: be sure to update with your DataFrame name\n",
    "hotel_info = [info_box_template.format(**row) for index, row in hotel_df.iterrows()]\n",
    "locations = hotel_df[[\"Lat\", \"Lng\"]]"
   ]
  },
  {
   "cell_type": "code",
   "execution_count": null,
   "metadata": {},
   "outputs": [],
   "source": [
    "# Add marker layer ontop of heat map\n",
    "\n",
    "\n",
    "# Display figure\n"
   ]
  },
  {
   "cell_type": "code",
   "execution_count": null,
   "metadata": {},
   "outputs": [],
   "source": []
  }
 ],
 "metadata": {
  "kernelspec": {
   "display_name": "Python 3",
   "language": "python",
   "name": "python3"
  },
  "language_info": {
   "codemirror_mode": {
    "name": "ipython",
    "version": 3
   },
   "file_extension": ".py",
   "mimetype": "text/x-python",
   "name": "python",
   "nbconvert_exporter": "python",
   "pygments_lexer": "ipython3",
   "version": "3.8.5"
  },
  "latex_envs": {
   "LaTeX_envs_menu_present": true,
   "autoclose": false,
   "autocomplete": true,
   "bibliofile": "biblio.bib",
   "cite_by": "apalike",
   "current_citInitial": 1,
   "eqLabelWithNumbers": true,
   "eqNumInitial": 1,
   "hotkeys": {
    "equation": "Ctrl-E",
    "itemize": "Ctrl-I"
   },
   "labels_anchors": false,
   "latex_user_defs": false,
   "report_style_numbering": false,
   "user_envs_cfg": false
  }
 },
 "nbformat": 4,
 "nbformat_minor": 4
}
